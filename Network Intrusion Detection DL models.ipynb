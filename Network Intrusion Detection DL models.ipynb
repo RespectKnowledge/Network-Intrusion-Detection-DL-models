{
 "cells": [
  {
   "cell_type": "markdown",
   "metadata": {},
   "source": [
    "# IoT Security\n",
    "Network Intrusion Detection dataset"
   ]
  },
  {
   "cell_type": "markdown",
   "metadata": {},
   "source": [
    "# Machine Learning and deep learning models for network intrusion detection"
   ]
  },
  {
   "cell_type": "markdown",
   "metadata": {},
   "source": [
    "# Step 1: Data Collection (downloading)"
   ]
  },
  {
   "cell_type": "markdown",
   "metadata": {},
   "source": [
    "For this use case we are using famus opensource KDDCUP99 data. Please go to this link http://kdd.ics.uci.edu/databases/kddcup99/ and download kddcup.data_10_percent.gz dataset, and save into your preferred folder for further use."
   ]
  },
  {
   "cell_type": "markdown",
   "metadata": {},
   "source": [
    "# Step 2: Pre-processing"
   ]
  },
  {
   "cell_type": "raw",
   "metadata": {},
   "source": [
    "KDD IDS dataset needs multi-level pre-processing: (i) splitting the data into three different protocol sets ( Application, Transport, and Network ) in order extract the dataset for the desired protocol (ii) duplicate data removal, categorical data conversion and normalisation, and (iii) feature selection (optional). The following lines of code is a potential way of splitting the dataset into three datasets, namely 'Final_App_Layer’, 'Final_Transport_Layer’, and 'Final_Network_Layer’."
   ]
  },
  {
   "cell_type": "markdown",
   "metadata": {},
   "source": [
    "# Splitting of the Dataset"
   ]
  },
  {
   "cell_type": "code",
   "execution_count": 1,
   "metadata": {},
   "outputs": [
    {
     "name": "stdout",
     "output_type": "stream",
     "text": [
      "smurf.              280790\n",
      "normal.              97278\n",
      "back.                 2203\n",
      "satan.                1589\n",
      "pod.                   264\n",
      "guess_passwd.           53\n",
      "buffer_overflow.        30\n",
      "warezmaster.            20\n",
      "imap.                   12\n",
      "loadmodule.              9\n",
      "ftp_write.               8\n",
      "multihop.                7\n",
      "perl.                    3\n",
      "Name: labels, dtype: int64\n",
      "neptune.            107201\n",
      "normal.              97278\n",
      "portsweep.            1040\n",
      "teardrop.              979\n",
      "nmap.                  231\n",
      "buffer_overflow.        30\n",
      "land.                   21\n",
      "Name: labels, dtype: int64\n",
      "smurf.              280790\n",
      "normal.              97278\n",
      "ipsweep.              1247\n",
      "pod.                   264\n",
      "buffer_overflow.        30\n",
      "Name: labels, dtype: int64\n"
     ]
    }
   ],
   "source": [
    "#Load the Entire Data\n",
    "\n",
    "#Importing all the required Libraries\n",
    "\n",
    "import pandas as pd\n",
    "\n",
    "IDSdata = pd.read_csv(\"cupdata/kddcup.data_10_percent.csv\",header = None,engine = 'python',sep=\",\")\n",
    "\n",
    "# Add column header \n",
    "\n",
    "IDSdata.columns = [\"duration\",\"protocol_type\",\"service\",\"flag\",\"src_bytes\",\"dst_bytes\",\"land\",\"wrong_fragement\",\n",
    "                   \"urgent\",\n",
    "                  \"hot\",\"num_failed_logins\",\"logged_in\",\"num_compressed\",\"root_shell\",\"su_attempted\",\"num_root\",\n",
    "                   \"num_file_creations\",\n",
    "                  \"num_shells\",\"num_access_files\",\"num_outbound_cmds\",\"is_hot_login\",\"is_guest_login\",\"count\",\"srv_count\",\"serror_rate\",\n",
    "                  \"srv_serror_rate\",\"rerror_rate\",\"srv_rerror_rate\",\"same_srv_rate\",\"diff_srv_rate\",\n",
    "                   \"srv_diff_host_rate\",\"dst_host_count\",\n",
    "                  \"dst_host_srv_count\",\"dst_host_same_srv_rate\",\"dst_host_diff_srv_rate\",\"dst_host_same_src_port_rate\",\n",
    "                   \"dst_host_srv_diff_host_rate\",\"dst_host_serror_rate\",\"dst_host_srv_serror_rate\",\"dst_host_rerror_rate\",\n",
    "                  \"dst_host_srv_rerror_rate\",\"labels\"]\n",
    "\n",
    "# Explore the Application Layer IDS Data\n",
    "\n",
    "ApplicationLayer = IDSdata[(IDSdata['labels'].isin(['normal.','smurf.','back.','satan.','pod.','guess_passwd.','buffer_overflow.',\n",
    "                                                    'warezmaster.','imap.','loadmodule.','ftp_write.','multihop.','perl.']))]\n",
    "print (ApplicationLayer['labels'].value_counts())\n",
    "\n",
    "# Save a Applayer data only into a text file\n",
    "ApplicationLayer.to_csv('Final_App_Layer.txt',header = None,index = False)\n",
    "\n",
    "# Explore the Transport Layer IDS Data\n",
    "TransportLayer = IDSdata[(IDSdata['labels'].isin(['normal.','neptune.','portsweep.','teardrop.','buffer_overflow.',\n",
    "                                                 'land.','nmap.']))]\n",
    "print (TransportLayer['labels'].value_counts())\n",
    "TransportLayer.to_csv('Final_Transport_Layer.txt',header = None,index = False)\n",
    "\n",
    "# Explore the Network Layer IDS Data\n",
    "NetworkLayer = IDSdata[(IDSdata['labels'].isin(['normal.','smurf.','ipsweep.','pod.','buffer_overflow.']))]\n",
    "print (NetworkLayer['labels'].value_counts())\n",
    "NetworkLayer.to_csv('Final_Network_Layer.txt',header = None,index = False)\n"
   ]
  },
  {
   "cell_type": "markdown",
   "metadata": {},
   "source": [
    "# Duplicate data removal, categorical data conversion and normalisation"
   ]
  },
  {
   "cell_type": "code",
   "execution_count": 2,
   "metadata": {},
   "outputs": [
    {
     "name": "stdout",
     "output_type": "stream",
     "text": [
      "Laoding the IDS Data\n",
      "Loading the data\n",
      "Data Preprocessing of loaded IDS Data\n",
      "Original number of records in the training dataset before removing duplicates is:  379609\n",
      "Number of records in the training dataset after removing the duplicates is : 89360 \n",
      "\n"
     ]
    }
   ],
   "source": [
    "import pandas as pd\n",
    "import numpy as np\n",
    "from sklearn.ensemble import RandomForestClassifier\n",
    "from sklearn import preprocessing\n",
    "import matplotlib.pylab as plt\n",
    "\n",
    "\n",
    "## For OMP error\n",
    "import os\n",
    "os.environ['KMP_DUPLICATE_LIB_OK']='True'\n",
    "\n",
    "# Functions for DataLoading and pre-processing\n",
    "\n",
    "def DataLoading (mypath):\n",
    "    print (\"Loading the data\")\n",
    "    dataframe = pd.read_csv(mypath,header = None,engine = 'python',sep=\",\")\n",
    "    return dataframe\n",
    "\n",
    "def DataPreprocessing(mydataframe):\n",
    "    \n",
    "    # Dropping the duplicates\n",
    "    recordcount = len(mydataframe)\n",
    "    print (\"Original number of records in the training dataset before removing duplicates is: \" , recordcount)\n",
    "    mydataframe.drop_duplicates(subset=None, inplace=True)  # Python command to drop duplicates\n",
    "    newrecordcount = len(mydataframe)\n",
    "    print (\"Number of records in the training dataset after removing the duplicates is :\", newrecordcount,\"\\n\")\n",
    "\n",
    "    #Dropping the labels to a different dataset which is used to train the recurrent neural network classifier\n",
    "    df_X = mydataframe.drop(mydataframe.columns[41],axis=1,inplace = False)\n",
    "    df_Y = mydataframe.drop(mydataframe.columns[0:41],axis=1, inplace = False)\n",
    "\n",
    "    # Convert Categorial data to the numerical data for the efficient classification\n",
    "    df_X[df_X.columns[1:4]] = df_X[df_X.columns[1:4]].stack().rank(method='dense').unstack()\n",
    "    \n",
    "    # Coding the normal as \" 1 0\" and attack as \"0 1\"\n",
    "    df_Y[df_Y[41]!='normal.'] = 0\n",
    "    df_Y[df_Y[41]=='normal.'] = 1\n",
    "    #print (labels[41].value_counts())\n",
    "    \n",
    "    #converting input data into float which is requried in the future stage of building in the network\n",
    "    df_X = df_X.loc[:,df_X.columns[0:41]].astype(float)\n",
    "\n",
    "    # Normal is \"1 0\" and the abnormal is \"0 1\"\n",
    "    df_Y.columns = [\"y1\"]\n",
    "    df_Y.loc[:,('y2')] = df_Y['y1'] ==0\n",
    "    df_Y.loc[:,('y2')] = df_Y['y2'].astype(int)\n",
    "    \n",
    "    return df_X,df_Y\n",
    "\n",
    "print (\"Laoding the IDS Data\")\n",
    "#data_path = \"Final_App_Layer.txt\" # If you want to use for Applicaiton Layer\n",
    "#data_path = \"Final_Transport_Layer.txt\" # If you want to use for Transport Layer\n",
    "data_path = \"Final_Network_Layer.txt\" # If you want to use for Network Layer\n",
    "\n",
    "dataframe = DataLoading(data_path)\n",
    "\n",
    "print (\"Data Preprocessing of loaded IDS Data\")\n",
    "data_X, data_Y = DataPreprocessing(dataframe)"
   ]
  },
  {
   "cell_type": "markdown",
   "metadata": {},
   "source": [
    "# Feature selection (optional pre-processing, but useful for network size)"
   ]
  },
  {
   "cell_type": "code",
   "execution_count": 3,
   "metadata": {},
   "outputs": [
    {
     "name": "stdout",
     "output_type": "stream",
     "text": [
      "Performing the Feature Selection on the train data set\n"
     ]
    },
    {
     "name": "stderr",
     "output_type": "stream",
     "text": [
      "C:\\Users\\moona\\Anaconda3\\lib\\site-packages\\sklearn\\ensemble\\forest.py:245: FutureWarning: The default value of n_estimators will change from 10 in version 0.20 to 100 in 0.22.\n",
      "  \"10 in version 0.20 to 100 in 0.22.\", FutureWarning)\n"
     ]
    },
    {
     "data": {
      "image/png": "[encoded data removed]",
      "text/plain": [
       "<Figure size 720x360 with 1 Axes>"
      ]
     },
     "metadata": {
      "needs_background": "light"
     },
     "output_type": "display_data"
    },
    {
     "name": "stderr",
     "output_type": "stream",
     "text": [
      "C:\\Users\\moona\\AppData\\Roaming\\Python\\Python37\\site-packages\\ipykernel_launcher.py:30: FutureWarning: Method .as_matrix will be removed in a future version. Use .values instead.\n"
     ]
    }
   ],
   "source": [
    "##### Function for features selection for the Model Training\n",
    "\n",
    "def FeatureSelection(myinputX, myinputY):\n",
    "\n",
    "    labels = np.array(myinputY).astype(int)\n",
    "    inputX = np.array(myinputX)\n",
    "    \n",
    "    #Random Forest Model\n",
    "    model = RandomForestClassifier(random_state = 0)\n",
    "    model.fit(inputX,labels)\n",
    "    importances = model.feature_importances_\n",
    "    \n",
    "    \n",
    "    #Plotting the Features agains their importance scores\n",
    "    indices = np.argsort(importances)[::-1]\n",
    "    std = np.std([tree.feature_importances_ for tree in model.estimators_],\n",
    "             axis=0)\n",
    "    plt.figure(figsize = (10,5))\n",
    "    plt.title(\"Feature importances (y-axis) vs Features IDs(x-axis)\")\n",
    "    plt.bar(range(inputX.shape[1]), importances[indices],\n",
    "       color=\"b\", yerr=std[indices], align=\"center\")\n",
    "    plt.xticks(range(inputX.shape[1]), indices)\n",
    "    plt.xlim([-1, inputX.shape[1]])\n",
    "    plt.show()\n",
    "    \n",
    "    # Selecting top featueres which have higher importance values = here we can find \"12\" features\n",
    "    #as we can see in the next step\n",
    "    newX = myinputX.iloc[:,model.feature_importances_.argsort()[::-1][:12]]\n",
    "   # Converting the X dataframe into tensors\n",
    "    myX = newX.as_matrix()\n",
    "    myY = labels\n",
    "\n",
    "    return myX,myY\n",
    "\n",
    "## Visualise the data for feature selction\n",
    "    \n",
    "\n",
    "print (\"Performing the Feature Selection on the train data set\")\n",
    "reduced_X,reduced_Y = FeatureSelection(data_X,data_Y)\n"
   ]
  },
  {
   "cell_type": "code",
   "execution_count": 4,
   "metadata": {},
   "outputs": [
    {
     "data": {
      "text/plain": [
       "(89360, 12)"
      ]
     },
     "execution_count": 4,
     "metadata": {},
     "output_type": "execute_result"
    }
   ],
   "source": [
    "reduced_X.shape"
   ]
  },
  {
   "cell_type": "code",
   "execution_count": 5,
   "metadata": {},
   "outputs": [
    {
     "data": {
      "text/plain": [
       "(89360, 2)"
      ]
     },
     "execution_count": 5,
     "metadata": {},
     "output_type": "execute_result"
    }
   ],
   "source": [
    "reduced_Y.shape"
   ]
  },
  {
   "cell_type": "code",
   "execution_count": 9,
   "metadata": {},
   "outputs": [],
   "source": [
    "#y=one_hot2indices(Y)\n",
    "#y=np.where(Y[0]==1)\n",
    "Y=[np.where(r==1)[0][0] for r in reduced_Y]"
   ]
  },
  {
   "cell_type": "code",
   "execution_count": 11,
   "metadata": {},
   "outputs": [],
   "source": [
    "Y=np.array(Y)"
   ]
  },
  {
   "cell_type": "code",
   "execution_count": 12,
   "metadata": {},
   "outputs": [
    {
     "data": {
      "text/plain": [
       "(89360,)"
      ]
     },
     "execution_count": 12,
     "metadata": {},
     "output_type": "execute_result"
    }
   ],
   "source": [
    "Y.shape"
   ]
  },
  {
   "cell_type": "code",
   "execution_count": 13,
   "metadata": {},
   "outputs": [
    {
     "data": {
      "text/plain": [
       "array([0, 0, 0, ..., 0, 0, 0], dtype=int64)"
      ]
     },
     "execution_count": 13,
     "metadata": {},
     "output_type": "execute_result"
    }
   ],
   "source": [
    "Y"
   ]
  },
  {
   "cell_type": "code",
   "execution_count": 14,
   "metadata": {},
   "outputs": [],
   "source": [
    "X=reduced_X\n",
    "y=Y"
   ]
  },
  {
   "cell_type": "code",
   "execution_count": 15,
   "metadata": {},
   "outputs": [
    {
     "data": {
      "text/plain": [
       "(89360, 12)"
      ]
     },
     "execution_count": 15,
     "metadata": {},
     "output_type": "execute_result"
    }
   ],
   "source": [
    "X.shape"
   ]
  },
  {
   "cell_type": "code",
   "execution_count": 16,
   "metadata": {},
   "outputs": [
    {
     "data": {
      "text/plain": [
       "(89360,)"
      ]
     },
     "execution_count": 16,
     "metadata": {},
     "output_type": "execute_result"
    }
   ],
   "source": [
    "y.shape"
   ]
  },
  {
   "cell_type": "code",
   "execution_count": 19,
   "metadata": {},
   "outputs": [],
   "source": [
    "from sklearn.model_selection import train_test_split\n",
    "X_train, X_test, y_train, y_test = train_test_split(X, y, test_size=0.1, random_state=100)"
   ]
  },
  {
   "cell_type": "code",
   "execution_count": 20,
   "metadata": {},
   "outputs": [
    {
     "name": "stdout",
     "output_type": "stream",
     "text": [
      "Train X shape is : (80424, 12)\n",
      "Train Y shape is : (80424,)\n",
      "Test X shape is : (8936, 12)\n",
      "Test Y shape is : (8936,)\n"
     ]
    }
   ],
   "source": [
    "print (\"Train X shape is :\", X_train.shape)\n",
    "print (\"Train Y shape is :\", y_train.shape)\n",
    "print (\"Test X shape is :\", X_test.shape)\n",
    "print (\"Test Y shape is :\", y_test.shape)"
   ]
  },
  {
   "cell_type": "markdown",
   "metadata": {},
   "source": [
    "# Machine Learning models for network intrusion dtection"
   ]
  },
  {
   "cell_type": "code",
   "execution_count": 21,
   "metadata": {},
   "outputs": [
    {
     "name": "stderr",
     "output_type": "stream",
     "text": [
      "C:\\Users\\moona\\Anaconda3\\lib\\site-packages\\sklearn\\linear_model\\logistic.py:432: FutureWarning: Default solver will be changed to 'lbfgs' in 0.22. Specify a solver to silence this warning.\n",
      "  FutureWarning)\n",
      "C:\\Users\\moona\\Anaconda3\\lib\\site-packages\\sklearn\\svm\\base.py:929: ConvergenceWarning: Liblinear failed to converge, increase the number of iterations.\n",
      "  \"the number of iterations.\", ConvergenceWarning)\n"
     ]
    },
    {
     "data": {
      "image/png": "[encoded data removed]",
      "text/plain": [
       "<Figure size 576x396 with 2 Axes>"
      ]
     },
     "metadata": {},
     "output_type": "display_data"
    },
    {
     "data": {
      "text/plain": [
       "<matplotlib.axes._subplots.AxesSubplot at 0x2913fcfeeb8>"
      ]
     },
     "execution_count": 21,
     "metadata": {},
     "output_type": "execute_result"
    }
   ],
   "source": [
    "from yellowbrick.classifier import ClassificationReport\n",
    "from sklearn.linear_model import LogisticRegression\n",
    "viz = ClassificationReport(LogisticRegression())\n",
    "viz.fit(X_train, y_train)\n",
    "viz.score(X_test, y_test)\n",
    "viz.poof()"
   ]
  },
  {
   "cell_type": "code",
   "execution_count": 22,
   "metadata": {},
   "outputs": [
    {
     "name": "stderr",
     "output_type": "stream",
     "text": [
      "C:\\Users\\moona\\Anaconda3\\lib\\site-packages\\sklearn\\svm\\base.py:929: ConvergenceWarning: Liblinear failed to converge, increase the number of iterations.\n",
      "  \"the number of iterations.\", ConvergenceWarning)\n"
     ]
    },
    {
     "data": {
      "image/png": "[encoded data removed]",
      "text/plain": [
       "<Figure size 576x396 with 1 Axes>"
      ]
     },
     "metadata": {},
     "output_type": "display_data"
    },
    {
     "data": {
      "text/plain": [
       "<matplotlib.axes._subplots.AxesSubplot at 0x29127914550>"
      ]
     },
     "execution_count": 22,
     "metadata": {},
     "output_type": "execute_result"
    }
   ],
   "source": [
    "from sklearn.datasets import load_iris\n",
    "from sklearn.model_selection import train_test_split as tts\n",
    "from sklearn.linear_model import LogisticRegression\n",
    "from yellowbrick.classifier import ConfusionMatrix\n",
    "\n",
    "classes = [\"Normal\",\"Intrusion\"]\n",
    "\n",
    "model = LogisticRegression(multi_class=\"auto\", solver=\"liblinear\")\n",
    "\n",
    "m_cm = ConfusionMatrix(\n",
    "    model, classes=classes,\n",
    "    label_encoder={0: 'Normal', 1: 'Intrusion'}\n",
    ")\n",
    "\n",
    "m_cm.fit(X_train, y_train)\n",
    "m_cm.score(X_test, y_test)\n",
    "\n",
    "m_cm.poof()"
   ]
  },
  {
   "cell_type": "code",
   "execution_count": 23,
   "metadata": {},
   "outputs": [
    {
     "data": {
      "image/png": "[encoded data removed]",
      "text/plain": [
       "<Figure size 576x396 with 1 Axes>"
      ]
     },
     "metadata": {},
     "output_type": "display_data"
    },
    {
     "data": {
      "text/plain": [
       "<matplotlib.axes._subplots.AxesSubplot at 0x291262e1a90>"
      ]
     },
     "execution_count": 23,
     "metadata": {},
     "output_type": "execute_result"
    }
   ],
   "source": [
    "from sklearn.linear_model import RidgeClassifier\n",
    "from sklearn.model_selection import train_test_split as tts\n",
    "from yellowbrick.classifier import PrecisionRecallCurve\n",
    "X_train, X_test, y_train, y_test = tts(X, y, test_size=0.2, shuffle=True)\n",
    "\n",
    "# Create the visualizer, fit, score, and poof it\n",
    "viz = PrecisionRecallCurve(RidgeClassifier())\n",
    "viz.fit(X_train, y_train)\n",
    "viz.score(X_test, y_test)\n",
    "viz.poof()"
   ]
  },
  {
   "cell_type": "code",
   "execution_count": 24,
   "metadata": {},
   "outputs": [
    {
     "data": {
      "image/png": "[encoded data removed]",
      "text/plain": [
       "<Figure size 576x396 with 1 Axes>"
      ]
     },
     "metadata": {},
     "output_type": "display_data"
    },
    {
     "data": {
      "text/plain": [
       "<matplotlib.axes._subplots.AxesSubplot at 0x291257ed128>"
      ]
     },
     "execution_count": 24,
     "metadata": {},
     "output_type": "execute_result"
    }
   ],
   "source": [
    "from sklearn.naive_bayes import MultinomialNB\n",
    "from sklearn.preprocessing import LabelEncoder, OrdinalEncoder\n",
    "from sklearn.model_selection import train_test_split as tts\n",
    "from yellowbrick.classifier import PrecisionRecallCurve\n",
    "\n",
    "X = OrdinalEncoder().fit_transform(X)\n",
    "encoder = LabelEncoder()\n",
    "y = encoder.fit_transform(y)\n",
    "\n",
    "X_train, X_test, y_train, y_test = tts(X, y, test_size=0.2, shuffle=True)\n",
    "\n",
    "# Create the visualizer, fit, score, and poof it\n",
    "viz = PrecisionRecallCurve(\n",
    "    MultinomialNB(), per_class=True, iso_f1_curves=True,\n",
    "    fill_area=False, micro=False, classes=encoder.classes_\n",
    ")\n",
    "viz.fit(X_train, y_train)\n",
    "viz.score(X_test, y_test)\n",
    "viz.poof()"
   ]
  },
  {
   "cell_type": "code",
   "execution_count": 25,
   "metadata": {},
   "outputs": [
    {
     "data": {
      "image/png": "[encoded data removed]",
      "text/plain": [
       "<Figure size 576x396 with 1 Axes>"
      ]
     },
     "metadata": {},
     "output_type": "display_data"
    },
    {
     "data": {
      "text/plain": [
       "<matplotlib.axes._subplots.AxesSubplot at 0x291000faac8>"
      ]
     },
     "execution_count": 25,
     "metadata": {},
     "output_type": "execute_result"
    }
   ],
   "source": [
    "from sklearn.model_selection import train_test_split\n",
    "from sklearn.ensemble import RandomForestClassifier\n",
    "from yellowbrick.classifier import ClassPredictionError\n",
    "\n",
    "classes = [\"Normal\",\"Intrusion\"]\n",
    "\n",
    "# Perform 80/20 training/test split\n",
    "X_train, X_test, y_train, y_test = train_test_split(X, y, test_size=0.20,\n",
    "                                                    random_state=42)\n",
    "\n",
    "# Instantiate the classification model and visualizer\n",
    "visualizer = ClassPredictionError(\n",
    "    RandomForestClassifier(n_estimators=10), classes=classes\n",
    ")\n",
    "\n",
    "# Fit the training data to the visualizer\n",
    "visualizer.fit(X_train, y_train)\n",
    "\n",
    "# Evaluate the model on the test data\n",
    "visualizer.score(X_test, y_test)\n",
    "\n",
    "# Draw visualization\n",
    "visualizer.poof()"
   ]
  },
  {
   "cell_type": "markdown",
   "metadata": {},
   "source": [
    "# Deep Learning model for network intrsuion detection"
   ]
  },
  {
   "cell_type": "markdown",
   "metadata": {},
   "source": [
    "# Step 3: Model Training and Validation"
   ]
  },
  {
   "cell_type": "code",
   "execution_count": 4,
   "metadata": {},
   "outputs": [
    {
     "name": "stderr",
     "output_type": "stream",
     "text": [
      "Using TensorFlow backend.\n"
     ]
    },
    {
     "name": "stdout",
     "output_type": "stream",
     "text": [
      "Train X shape is : (8000, 12)\n",
      "Train Y shape is : (8000, 2)\n",
      "Test X shape is : (1999, 12)\n",
      "Test Y shape is : (1999, 2)\n",
      "WARNING:tensorflow:From /Users/raz/anaconda3/lib/python3.7/site-packages/tensorflow/python/framework/op_def_library.py:263: colocate_with (from tensorflow.python.framework.ops) is deprecated and will be removed in a future version.\n",
      "Instructions for updating:\n",
      "Colocations handled automatically by placer.\n",
      "WARNING:tensorflow:From /Users/raz/anaconda3/lib/python3.7/site-packages/tensorflow/python/ops/math_ops.py:3066: to_int32 (from tensorflow.python.ops.math_ops) is deprecated and will be removed in a future version.\n",
      "Instructions for updating:\n",
      "Use tf.cast instead.\n",
      "Train on 8000 samples, validate on 1999 samples\n",
      "Epoch 1/100\n",
      "8000/8000 [==============================] - 2s 262us/step - loss: 0.1640 - acc: 0.4454 - val_loss: 0.1481 - val_acc: 0.8939\n",
      "Epoch 2/100\n",
      "8000/8000 [==============================] - 1s 81us/step - loss: 0.0901 - acc: 0.7556 - val_loss: 0.1449 - val_acc: 0.6353\n",
      "Epoch 3/100\n",
      "8000/8000 [==============================] - 1s 107us/step - loss: 0.0835 - acc: 0.7321 - val_loss: 0.1356 - val_acc: 0.7109\n",
      "Epoch 4/100\n",
      "8000/8000 [==============================] - 1s 93us/step - loss: 0.0811 - acc: 0.7331 - val_loss: 0.1286 - val_acc: 0.9475\n",
      "Epoch 5/100\n",
      "8000/8000 [==============================] - 1s 84us/step - loss: 0.0802 - acc: 0.7672 - val_loss: 0.1306 - val_acc: 0.9160\n",
      "Epoch 6/100\n",
      "8000/8000 [==============================] - 1s 80us/step - loss: 0.0796 - acc: 0.7590 - val_loss: 0.1329 - val_acc: 0.9260\n",
      "Epoch 7/100\n",
      "8000/8000 [==============================] - 1s 77us/step - loss: 0.0793 - acc: 0.7671 - val_loss: 0.1349 - val_acc: 0.9085\n",
      "Epoch 8/100\n",
      "8000/8000 [==============================] - 1s 81us/step - loss: 0.0790 - acc: 0.7819 - val_loss: 0.1361 - val_acc: 0.9260\n",
      "Epoch 9/100\n",
      "8000/8000 [==============================] - 1s 80us/step - loss: 0.0788 - acc: 0.7980 - val_loss: 0.1353 - val_acc: 0.9155\n",
      "Epoch 10/100\n",
      "8000/8000 [==============================] - 1s 82us/step - loss: 0.0786 - acc: 0.7920 - val_loss: 0.1356 - val_acc: 0.8869\n",
      "Epoch 11/100\n",
      "8000/8000 [==============================] - 1s 81us/step - loss: 0.0785 - acc: 0.7917 - val_loss: 0.1366 - val_acc: 0.7474\n",
      "Epoch 12/100\n",
      "8000/8000 [==============================] - 1s 82us/step - loss: 0.0783 - acc: 0.7876 - val_loss: 0.1343 - val_acc: 0.7374\n",
      "Epoch 13/100\n",
      "8000/8000 [==============================] - 1s 81us/step - loss: 0.0783 - acc: 0.8061 - val_loss: 0.1348 - val_acc: 0.7059\n",
      "Epoch 14/100\n",
      "8000/8000 [==============================] - 1s 78us/step - loss: 0.0782 - acc: 0.7950 - val_loss: 0.1318 - val_acc: 0.6808\n",
      "Epoch 15/100\n",
      "8000/8000 [==============================] - 1s 82us/step - loss: 0.0781 - acc: 0.7937 - val_loss: 0.1324 - val_acc: 0.6433\n",
      "Epoch 16/100\n",
      "8000/8000 [==============================] - 1s 81us/step - loss: 0.0780 - acc: 0.8024 - val_loss: 0.1330 - val_acc: 0.7289\n",
      "Epoch 17/100\n",
      "8000/8000 [==============================] - 1s 80us/step - loss: 0.0780 - acc: 0.8105 - val_loss: 0.1322 - val_acc: 0.8874\n",
      "Epoch 18/100\n",
      "8000/8000 [==============================] - 1s 77us/step - loss: 0.0779 - acc: 0.7892 - val_loss: 0.1269 - val_acc: 0.6303\n",
      "Epoch 19/100\n",
      "8000/8000 [==============================] - 1s 83us/step - loss: 0.0778 - acc: 0.8016 - val_loss: 0.1243 - val_acc: 0.7164\n",
      "Epoch 20/100\n",
      "8000/8000 [==============================] - 1s 90us/step - loss: 0.0778 - acc: 0.7984 - val_loss: 0.1247 - val_acc: 0.6378\n",
      "Epoch 21/100\n",
      "8000/8000 [==============================] - 1s 87us/step - loss: 0.0778 - acc: 0.8074 - val_loss: 0.1235 - val_acc: 0.8924\n",
      "Epoch 22/100\n",
      "8000/8000 [==============================] - 1s 82us/step - loss: 0.0468 - acc: 0.7282 - val_loss: 0.0497 - val_acc: 0.8554\n",
      "Epoch 23/100\n",
      "8000/8000 [==============================] - 1s 80us/step - loss: 0.0028 - acc: 0.6584 - val_loss: 0.0413 - val_acc: 0.6218\n",
      "Epoch 24/100\n",
      "8000/8000 [==============================] - 1s 81us/step - loss: 0.0020 - acc: 0.5569 - val_loss: 0.0472 - val_acc: 0.6153\n",
      "Epoch 25/100\n",
      "8000/8000 [==============================] - 1s 80us/step - loss: 0.0018 - acc: 0.5650 - val_loss: 0.0477 - val_acc: 0.6233\n",
      "Epoch 26/100\n",
      "8000/8000 [==============================] - 1s 80us/step - loss: 0.0017 - acc: 0.5584 - val_loss: 0.0469 - val_acc: 0.6233\n",
      "Epoch 27/100\n",
      "8000/8000 [==============================] - 1s 80us/step - loss: 0.0017 - acc: 0.5687 - val_loss: 0.0474 - val_acc: 0.6173\n",
      "Epoch 28/100\n",
      "8000/8000 [==============================] - 1s 80us/step - loss: 0.0017 - acc: 0.5318 - val_loss: 0.0459 - val_acc: 0.6253\n",
      "Epoch 29/100\n",
      "8000/8000 [==============================] - 1s 78us/step - loss: 0.0016 - acc: 0.5470 - val_loss: 0.0457 - val_acc: 0.6338\n",
      "Epoch 30/100\n",
      "8000/8000 [==============================] - 1s 85us/step - loss: 0.0015 - acc: 0.5499 - val_loss: 0.0454 - val_acc: 0.8929\n",
      "Epoch 31/100\n",
      "8000/8000 [==============================] - 1s 88us/step - loss: 0.0015 - acc: 0.5516 - val_loss: 0.0412 - val_acc: 0.8199\n",
      "Epoch 32/100\n",
      "8000/8000 [==============================] - 1s 81us/step - loss: 0.0015 - acc: 0.5319 - val_loss: 0.0426 - val_acc: 0.9010\n",
      "Epoch 33/100\n",
      "8000/8000 [==============================] - 1s 81us/step - loss: 0.0015 - acc: 0.5468 - val_loss: 0.0425 - val_acc: 0.6918\n",
      "Epoch 34/100\n",
      "8000/8000 [==============================] - 1s 80us/step - loss: 0.0015 - acc: 0.5295 - val_loss: 0.0432 - val_acc: 0.8939\n",
      "Epoch 35/100\n",
      "8000/8000 [==============================] - 1s 79us/step - loss: 0.0014 - acc: 0.5405 - val_loss: 0.0440 - val_acc: 0.7439\n",
      "Epoch 36/100\n",
      "8000/8000 [==============================] - 1s 82us/step - loss: 0.0014 - acc: 0.5361 - val_loss: 0.0430 - val_acc: 0.7399\n",
      "Epoch 37/100\n",
      "8000/8000 [==============================] - 1s 80us/step - loss: 0.0014 - acc: 0.5246 - val_loss: 0.0458 - val_acc: 0.8654\n",
      "Epoch 38/100\n",
      "8000/8000 [==============================] - 1s 91us/step - loss: 0.0013 - acc: 0.5404 - val_loss: 0.0430 - val_acc: 0.7844\n",
      "Epoch 39/100\n",
      "8000/8000 [==============================] - 1s 108us/step - loss: 0.0013 - acc: 0.5295 - val_loss: 0.0435 - val_acc: 0.8049\n",
      "Epoch 40/100\n",
      "8000/8000 [==============================] - 1s 104us/step - loss: 0.0013 - acc: 0.5034 - val_loss: 0.0466 - val_acc: 0.8264\n",
      "Epoch 41/100\n",
      "8000/8000 [==============================] - 1s 119us/step - loss: 0.0013 - acc: 0.5273 - val_loss: 0.0480 - val_acc: 0.8054\n",
      "Epoch 42/100\n",
      "8000/8000 [==============================] - 1s 112us/step - loss: 0.0012 - acc: 0.5201 - val_loss: 0.0445 - val_acc: 0.5758\n",
      "Epoch 43/100\n",
      "8000/8000 [==============================] - 1s 108us/step - loss: 0.0012 - acc: 0.5363 - val_loss: 0.0451 - val_acc: 0.7994\n",
      "Epoch 44/100\n",
      "8000/8000 [==============================] - 1s 78us/step - loss: 0.0012 - acc: 0.5397 - val_loss: 0.0445 - val_acc: 0.8104\n",
      "Epoch 45/100\n",
      "8000/8000 [==============================] - 1s 73us/step - loss: 0.0012 - acc: 0.5560 - val_loss: 0.0479 - val_acc: 0.8204\n",
      "Epoch 46/100\n",
      "8000/8000 [==============================] - 1s 86us/step - loss: 0.0011 - acc: 0.5196 - val_loss: 0.0425 - val_acc: 0.4722\n",
      "Epoch 47/100\n",
      "8000/8000 [==============================] - 1s 112us/step - loss: 0.0012 - acc: 0.5289 - val_loss: 0.0432 - val_acc: 0.6303\n",
      "Epoch 48/100\n",
      "8000/8000 [==============================] - 1s 100us/step - loss: 0.0012 - acc: 0.5076 - val_loss: 0.0449 - val_acc: 0.5443\n",
      "Epoch 49/100\n",
      "8000/8000 [==============================] - 1s 96us/step - loss: 0.0011 - acc: 0.5280 - val_loss: 0.0439 - val_acc: 0.4437\n",
      "Epoch 50/100\n",
      "8000/8000 [==============================] - 1s 92us/step - loss: 0.0011 - acc: 0.5231 - val_loss: 0.0469 - val_acc: 0.4972\n",
      "Epoch 51/100\n",
      "8000/8000 [==============================] - 1s 73us/step - loss: 0.0011 - acc: 0.5349 - val_loss: 0.0418 - val_acc: 0.5148\n",
      "Epoch 52/100\n",
      "8000/8000 [==============================] - 1s 75us/step - loss: 0.0011 - acc: 0.5590 - val_loss: 0.0454 - val_acc: 0.4912\n",
      "Epoch 53/100\n",
      "8000/8000 [==============================] - 1s 66us/step - loss: 0.0011 - acc: 0.5240 - val_loss: 0.0424 - val_acc: 0.5458\n",
      "Epoch 54/100\n",
      "8000/8000 [==============================] - 1s 70us/step - loss: 0.0011 - acc: 0.5520 - val_loss: 0.0454 - val_acc: 0.4402\n",
      "Epoch 55/100\n",
      "8000/8000 [==============================] - 1s 71us/step - loss: 0.0010 - acc: 0.5071 - val_loss: 0.0442 - val_acc: 0.1921\n",
      "Epoch 56/100\n",
      "8000/8000 [==============================] - 1s 74us/step - loss: 0.0010 - acc: 0.5281 - val_loss: 0.0437 - val_acc: 0.2326\n",
      "Epoch 57/100\n",
      "8000/8000 [==============================] - 1s 71us/step - loss: 9.9950e-04 - acc: 0.5487 - val_loss: 0.0444 - val_acc: 0.3712\n",
      "Epoch 58/100\n",
      "8000/8000 [==============================] - 1s 68us/step - loss: 0.0010 - acc: 0.5384 - val_loss: 0.0448 - val_acc: 0.3217\n",
      "Epoch 59/100\n",
      "8000/8000 [==============================] - 1s 68us/step - loss: 0.0010 - acc: 0.5080 - val_loss: 0.0427 - val_acc: 0.1701\n",
      "Epoch 60/100\n",
      "8000/8000 [==============================] - 1s 71us/step - loss: 9.7716e-04 - acc: 0.5395 - val_loss: 0.0429 - val_acc: 0.1661\n",
      "Epoch 61/100\n",
      "8000/8000 [==============================] - 1s 72us/step - loss: 9.5707e-04 - acc: 0.5172 - val_loss: 0.0443 - val_acc: 0.1461\n",
      "Epoch 62/100\n",
      "8000/8000 [==============================] - 1s 69us/step - loss: 9.9759e-04 - acc: 0.5410 - val_loss: 0.0425 - val_acc: 0.1286\n",
      "Epoch 63/100\n",
      "8000/8000 [==============================] - 1s 70us/step - loss: 9.7936e-04 - acc: 0.5541 - val_loss: 0.0453 - val_acc: 0.2046\n",
      "Epoch 64/100\n",
      "8000/8000 [==============================] - 1s 71us/step - loss: 9.3832e-04 - acc: 0.5051 - val_loss: 0.0420 - val_acc: 0.1841\n",
      "Epoch 65/100\n",
      "8000/8000 [==============================] - 1s 66us/step - loss: 0.0010 - acc: 0.5426 - val_loss: 0.0389 - val_acc: 0.1391\n",
      "Epoch 66/100\n",
      "8000/8000 [==============================] - 1s 67us/step - loss: 9.1420e-04 - acc: 0.5184 - val_loss: 0.0423 - val_acc: 0.1631\n",
      "Epoch 67/100\n",
      "8000/8000 [==============================] - 1s 67us/step - loss: 9.0200e-04 - acc: 0.5359 - val_loss: 0.0422 - val_acc: 0.1546\n",
      "Epoch 68/100\n",
      "8000/8000 [==============================] - 1s 68us/step - loss: 9.5729e-04 - acc: 0.5428 - val_loss: 0.0378 - val_acc: 0.1636\n",
      "Epoch 69/100\n",
      "8000/8000 [==============================] - 1s 71us/step - loss: 8.7990e-04 - acc: 0.5351 - val_loss: 0.0362 - val_acc: 0.1736\n",
      "Epoch 70/100\n",
      "8000/8000 [==============================] - 1s 70us/step - loss: 0.0010 - acc: 0.5296 - val_loss: 0.0417 - val_acc: 0.2746\n",
      "Epoch 71/100\n",
      "8000/8000 [==============================] - 1s 71us/step - loss: 8.5644e-04 - acc: 0.5229 - val_loss: 0.0428 - val_acc: 0.3717\n",
      "Epoch 72/100\n",
      "8000/8000 [==============================] - 1s 75us/step - loss: 8.7562e-04 - acc: 0.5389 - val_loss: 0.0434 - val_acc: 0.3042\n",
      "Epoch 73/100\n",
      "8000/8000 [==============================] - 1s 75us/step - loss: 8.5456e-04 - acc: 0.5291 - val_loss: 0.0419 - val_acc: 0.1806\n",
      "Epoch 74/100\n",
      "8000/8000 [==============================] - 1s 67us/step - loss: 8.7505e-04 - acc: 0.5121 - val_loss: 0.0443 - val_acc: 0.1996\n",
      "Epoch 75/100\n",
      "8000/8000 [==============================] - 1s 63us/step - loss: 8.5422e-04 - acc: 0.5213 - val_loss: 0.0420 - val_acc: 0.1676\n",
      "Epoch 76/100\n",
      "8000/8000 [==============================] - 1s 64us/step - loss: 9.1479e-04 - acc: 0.5376 - val_loss: 0.0421 - val_acc: 0.4457\n",
      "Epoch 77/100\n",
      "8000/8000 [==============================] - 1s 70us/step - loss: 8.2786e-04 - acc: 0.5321 - val_loss: 0.0413 - val_acc: 0.1936\n",
      "Epoch 78/100\n",
      "8000/8000 [==============================] - 1s 67us/step - loss: 8.3750e-04 - acc: 0.5225 - val_loss: 0.0414 - val_acc: 0.1906\n",
      "Epoch 79/100\n",
      "8000/8000 [==============================] - 1s 64us/step - loss: 8.9597e-04 - acc: 0.5410 - val_loss: 0.0425 - val_acc: 0.1616\n",
      "Epoch 80/100\n",
      "8000/8000 [==============================] - 1s 67us/step - loss: 8.0489e-04 - acc: 0.5090 - val_loss: 0.0400 - val_acc: 0.1591\n",
      "Epoch 81/100\n",
      "8000/8000 [==============================] - 1s 66us/step - loss: 7.8469e-04 - acc: 0.5486 - val_loss: 0.0404 - val_acc: 0.1206\n",
      "Epoch 82/100\n",
      "8000/8000 [==============================] - 1s 64us/step - loss: 8.6167e-04 - acc: 0.5187 - val_loss: 0.0459 - val_acc: 0.1906\n",
      "Epoch 83/100\n",
      "8000/8000 [==============================] - 1s 65us/step - loss: 8.4289e-04 - acc: 0.5208 - val_loss: 0.0376 - val_acc: 0.1391\n",
      "Epoch 84/100\n",
      "8000/8000 [==============================] - 1s 64us/step - loss: 7.8791e-04 - acc: 0.5272 - val_loss: 0.0404 - val_acc: 0.2386\n",
      "Epoch 85/100\n",
      "8000/8000 [==============================] - 1s 63us/step - loss: 7.9852e-04 - acc: 0.5175 - val_loss: 0.0456 - val_acc: 0.0970\n",
      "Epoch 86/100\n",
      "8000/8000 [==============================] - 1s 64us/step - loss: 8.2332e-04 - acc: 0.5560 - val_loss: 0.0409 - val_acc: 0.1521\n",
      "Epoch 87/100\n",
      "8000/8000 [==============================] - 1s 63us/step - loss: 7.6738e-04 - acc: 0.5331 - val_loss: 0.0394 - val_acc: 0.1211\n",
      "Epoch 88/100\n",
      "8000/8000 [==============================] - 1s 63us/step - loss: 8.3813e-04 - acc: 0.5376 - val_loss: 0.0395 - val_acc: 0.1526\n",
      "Epoch 89/100\n",
      "8000/8000 [==============================] - 1s 63us/step - loss: 7.7671e-04 - acc: 0.5299 - val_loss: 0.0397 - val_acc: 0.1541\n",
      "Epoch 90/100\n",
      "8000/8000 [==============================] - 1s 65us/step - loss: 8.0075e-04 - acc: 0.5232 - val_loss: 0.0420 - val_acc: 0.2451\n",
      "Epoch 91/100\n",
      "8000/8000 [==============================] - 1s 63us/step - loss: 7.5247e-04 - acc: 0.5214 - val_loss: 0.0395 - val_acc: 0.1451\n",
      "Epoch 92/100\n",
      "8000/8000 [==============================] - 1s 63us/step - loss: 9.1716e-04 - acc: 0.5399 - val_loss: 0.0357 - val_acc: 0.2401\n",
      "Epoch 93/100\n",
      "8000/8000 [==============================] - 1s 66us/step - loss: 7.5186e-04 - acc: 0.5299 - val_loss: 0.0384 - val_acc: 0.1371\n",
      "Epoch 94/100\n",
      "8000/8000 [==============================] - 1s 65us/step - loss: 7.3044e-04 - acc: 0.5089 - val_loss: 0.0383 - val_acc: 0.1531\n",
      "Epoch 95/100\n",
      "8000/8000 [==============================] - 1s 63us/step - loss: 7.4793e-04 - acc: 0.5425 - val_loss: 0.0364 - val_acc: 0.1266\n",
      "Epoch 96/100\n",
      "8000/8000 [==============================] - 1s 64us/step - loss: 7.7556e-04 - acc: 0.5355 - val_loss: 0.0359 - val_acc: 0.2346\n",
      "Epoch 97/100\n",
      "8000/8000 [==============================] - 1s 63us/step - loss: 7.4365e-04 - acc: 0.5476 - val_loss: 0.0348 - val_acc: 0.1866\n",
      "Epoch 98/100\n",
      "8000/8000 [==============================] - 1s 64us/step - loss: 7.3507e-04 - acc: 0.5362 - val_loss: 0.0349 - val_acc: 0.1981\n",
      "Epoch 99/100\n",
      "8000/8000 [==============================] - 1s 65us/step - loss: 8.3712e-04 - acc: 0.5181 - val_loss: 0.0356 - val_acc: 0.2016\n",
      "Epoch 100/100\n",
      "8000/8000 [==============================] - 1s 64us/step - loss: 7.0996e-04 - acc: 0.5007 - val_loss: 0.0373 - val_acc: 0.1611\n"
     ]
    }
   ],
   "source": [
    "from keras.layers import Input, Dense\n",
    "from keras.models import Model\n",
    "from keras.regularizers import l1\n",
    "from keras.callbacks import ModelCheckpoint\n",
    "from keras.callbacks import TensorBoard\n",
    "from keras.models import load_model\n",
    "\n",
    "# Train features and Train Labels\n",
    "train_X = reduced_X[:8000]\n",
    "train_Y = reduced_Y[:8000]\n",
    "\n",
    "#Test Features and Test Labels\n",
    "test_X = reduced_X[8001:10000]\n",
    "test_Y = reduced_Y[8001:10000]\n",
    "\n",
    "\n",
    "print (\"Train X shape is :\", train_X.shape)\n",
    "print (\"Train Y shape is :\", train_Y.shape)\n",
    "print (\"Test X shape is :\", test_X.shape)\n",
    "print (\"Test Y shape is :\", test_Y.shape)\n",
    "\n",
    "## Normalizing the Input Features: Using tensorflow normalizing function\n",
    "\n",
    "# Before normalizing, the array of input features should be converted to a dataframe\n",
    "semitrain_X = pd.DataFrame(train_X)\n",
    "semitest_X = pd.DataFrame(test_X)\n",
    "#Importing Scikit learn libraries\n",
    "from sklearn.preprocessing import MinMaxScaler\n",
    "scaler = MinMaxScaler(feature_range=(0, 1))\n",
    "\n",
    "#Normalizing Train Data Features\n",
    "scaler_traindata = scaler.fit(semitrain_X)\n",
    "train_norm = scaler_traindata.transform(semitrain_X)\n",
    "X_train=train_norm_X = pd.DataFrame(train_norm)\n",
    "\n",
    "#Normalizing Test Data Features\n",
    "scaler_testdata = scaler.fit(semitest_X)\n",
    "test_norm = scaler_testdata.transform(semitest_X)\n",
    "X_test=test_norm_X = pd.DataFrame(test_norm)\n",
    "#Testing/Training Data\n",
    "Y_train=train_Y\n",
    "Y_test=test_Y\n",
    "# Useful paprameters for the Autoencoder\n",
    " # dimension one one input data\n",
    "input_dim = X_train.shape[1]\n",
    "# this is the size of our encoded representations\n",
    "encoding_dim = 32 \n",
    "    \n",
    "## For OMP error\n",
    "import os\n",
    "os.environ['KMP_DUPLICATE_LIB_OK']='True'\n",
    "\n",
    "input_layer = Input(shape=(input_dim, ))\n",
    "encoder = Dense(encoding_dim, activation=\"tanh\", activity_regularizer=l1(10e-5))(input_layer)\n",
    "encoder = Dense(int(encoding_dim), activation=\"relu\")(encoder)\n",
    "encoder = Dense(int(encoding_dim-2), activation=\"relu\")(encoder)\n",
    "code = Dense(int(encoding_dim-4), activation='tanh')(encoder)\n",
    "decoder = Dense(int(encoding_dim-2), activation='tanh')(code)\n",
    "decoder = Dense(int(encoding_dim), activation='tanh')(encoder)\n",
    "decoder = Dense(input_dim, activation='relu')(decoder)\n",
    "autoencoder = Model(inputs=input_layer, outputs=decoder)\n",
    "\n",
    "## Parameters for Model configuration and saving \n",
    "nb_epoch = 100\n",
    "batch_size = 60\n",
    "autoencoder.compile(optimizer='adam',\n",
    "                    loss='mean_squared_error',\n",
    "                    metrics=['accuracy'])\n",
    "checkpointer = ModelCheckpoint(filepath=\"model.h5\",\n",
    "                               verbose=0,\n",
    "                               save_best_only=True)\n",
    "                               \n",
    "tensorboard = TensorBoard(log_dir='./logs',\n",
    "                          histogram_freq=0,\n",
    "                          write_graph=True,\n",
    "                          write_images=True)\n",
    "history = autoencoder.fit(X_train, X_train,\n",
    "                    epochs=nb_epoch,\n",
    "                    batch_size=batch_size,\n",
    "                    shuffle=True,\n",
    "                    validation_data=(X_test, X_test),\n",
    "                    verbose=1,\n",
    "                    callbacks=[checkpointer, tensorboard]).history\n",
    "                                                \n",
    "\n",
    "autoencoder = load_model('model.h5')\n",
    "predictions = autoencoder.predict(X_test)\n",
    "mse = np.mean(np.power(X_test - predictions, 2), axis=1)"
   ]
  },
  {
   "cell_type": "code",
   "execution_count": null,
   "metadata": {},
   "outputs": [],
   "source": []
  }
 ],
 "metadata": {
  "kernelspec": {
   "display_name": "Python 3",
   "language": "python",
   "name": "python3"
  },
  "language_info": {
   "codemirror_mode": {
    "name": "ipython",
    "version": 3
   },
   "file_extension": ".py",
   "mimetype": "text/x-python",
   "name": "python",
   "nbconvert_exporter": "python",
   "pygments_lexer": "ipython3",
   "version": "3.7.3"
  }
 },
 "nbformat": 4,
 "nbformat_minor": 2
}
